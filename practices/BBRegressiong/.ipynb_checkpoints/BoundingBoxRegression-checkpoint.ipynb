{
 "cells": [
  {
   "cell_type": "markdown",
   "metadata": {},
   "source": [
    "## Link to Tutorial that I followed\n",
    "https://towardsdatascience.com/getting-started-with-bounding-box-regression-in-tensorflow-743e22d0ccb3"
   ]
  },
  {
   "cell_type": "code",
   "execution_count": 1,
   "metadata": {},
   "outputs": [
    {
     "name": "stderr",
     "output_type": "stream",
     "text": [
      "Using TensorFlow backend.\n"
     ]
    }
   ],
   "source": [
    "import tensorflow as tf\n",
    "import keras\n",
    "import numpy as np\n",
    "import cv2\n",
    "import glob\n",
    "from PIL import Image , ImageDraw\n",
    "import os\n",
    "import xmltodict"
   ]
  },
  {
   "cell_type": "code",
   "execution_count": 2,
   "metadata": {},
   "outputs": [],
   "source": [
    "input_dim = 228"
   ]
  },
  {
   "cell_type": "code",
   "execution_count": 3,
   "metadata": {},
   "outputs": [],
   "source": [
    "images = []\n",
    "image_paths = glob.glob(\"training_images/*.jpg\")"
   ]
  },
  {
   "cell_type": "code",
   "execution_count": 4,
   "metadata": {},
   "outputs": [],
   "source": [
    "for i in image_paths:\n",
    "    image = Image.open(i).resize((input_dim, input_dim))\n",
    "    # Normalize image\n",
    "    image = np.asarray(image) / 255.0\n",
    "    images.append(image)"
   ]
  },
  {
   "cell_type": "code",
   "execution_count": 6,
   "metadata": {},
   "outputs": [],
   "source": [
    "xml_paths = glob.glob(\"training_images/*.xml\")\n",
    "objects = []\n",
    "bndboxes = []\n",
    "for path in xml_paths:\n",
    "    annotation_dict = xmltodict.parse(open(path, 'rb'))\n",
    "    objects.append(annotation_dict['annotation']['object']['name'])\n",
    "    bb = []\n",
    "    buff = annotation_dict['annotation']['object']['bndbox']\n",
    "    bb.append(int(buff['xmin']))\n",
    "    bb.append(int(buff['ymin']))\n",
    "    bb.append(int(buff['xmax']))\n",
    "    bb.append(int(buff['ymax']))\n",
    "    bb = np.asarray(bb) / input_dim\n",
    "    bndboxes.append(bb)"
   ]
  },
  {
   "cell_type": "code",
   "execution_count": 7,
   "metadata": {},
   "outputs": [],
   "source": [
    "from sklearn.preprocessing import LabelBinarizer\n",
    "from sklearn.model_selection import train_test_split"
   ]
  },
  {
   "cell_type": "code",
   "execution_count": 8,
   "metadata": {},
   "outputs": [
    {
     "data": {
      "text/plain": [
       "array(['cucumber', 'eggplant', 'mushroom'], dtype='<U8')"
      ]
     },
     "execution_count": 8,
     "metadata": {},
     "output_type": "execute_result"
    }
   ],
   "source": [
    "np.unique(objects)\n",
    "\n",
    "# cucumber 0, eggplant 1, mushroom 2  "
   ]
  },
  {
   "cell_type": "code",
   "execution_count": 9,
   "metadata": {},
   "outputs": [],
   "source": [
    "boxes = np.array(bndboxes)\n",
    "encoder = LabelBinarizer()\n",
    "classes_one_hot = encoder.fit_transform(objects)\n",
    "Y = np.concatenate([boxes, classes_one_hot], axis = 1)\n",
    "X = np.asarray(images)"
   ]
  },
  {
   "cell_type": "code",
   "execution_count": 10,
   "metadata": {},
   "outputs": [],
   "source": [
    "x_train, x_test, y_train, y_test = train_test_split(X,Y, train_size = 0.6)"
   ]
  },
  {
   "cell_type": "code",
   "execution_count": 11,
   "metadata": {},
   "outputs": [],
   "source": [
    "# Creating the keras model"
   ]
  },
  {
   "cell_type": "code",
   "execution_count": 12,
   "metadata": {},
   "outputs": [],
   "source": [
    "from tensorflow import keras\n",
    "from tensorflow.keras import backend as K"
   ]
  },
  {
   "cell_type": "code",
   "execution_count": 13,
   "metadata": {},
   "outputs": [],
   "source": [
    "input_shape = ( input_dim , input_dim , 3 )\n",
    "dropout_rate = 0.5\n",
    "alpha = 0.2\n",
    "\n",
    "def calculate_iou( target_boxes , pred_boxes ):\n",
    "    xA = K.maximum( target_boxes[ ... , 0], pred_boxes[ ... , 0] )\n",
    "    yA = K.maximum( target_boxes[ ... , 1], pred_boxes[ ... , 1] )\n",
    "    xB = K.minimum( target_boxes[ ... , 2], pred_boxes[ ... , 2] )\n",
    "    yB = K.minimum( target_boxes[ ... , 3], pred_boxes[ ... , 3] )\n",
    "    interArea = K.maximum( 0.0 , xB - xA ) * K.maximum( 0.0 , yB - yA )\n",
    "    boxAArea = (target_boxes[ ... , 2] - target_boxes[ ... , 0]) * (target_boxes[ ... , 3] - target_boxes[ ... , 1])\n",
    "    boxBArea = (pred_boxes[ ... , 2] - pred_boxes[ ... , 0]) * (pred_boxes[ ... , 3] - pred_boxes[ ... , 1])\n",
    "    iou = interArea / ( boxAArea + boxBArea - interArea )\n",
    "    return iou\n",
    "\n",
    "def iou_metric( y_true , y_pred ):\n",
    "    return calculate_iou( y_true , y_pred)\n",
    "\n",
    "def custom_loss( y_true , y_pred ):\n",
    "    mse = tf.losses.mean_squared_error( y_true , y_pred ) \n",
    "    iou = calculate_iou( y_true , y_pred ) \n",
    "    return mse + (1 - iou)"
   ]
  },
  {
   "cell_type": "code",
   "execution_count": 16,
   "metadata": {
    "scrolled": true
   },
   "outputs": [
    {
     "name": "stdout",
     "output_type": "stream",
     "text": [
      "WARNING:tensorflow:From /anaconda/envs/gandola/lib/python3.7/site-packages/tensorflow_core/python/ops/resource_variable_ops.py:1630: calling BaseResourceVariable.__init__ (from tensorflow.python.ops.resource_variable_ops) with constraint is deprecated and will be removed in a future version.\n",
      "Instructions for updating:\n",
      "If using Keras pass *_constraint arguments to layers.\n",
      "WARNING:tensorflow:From /anaconda/envs/gandola/lib/python3.7/site-packages/tensorflow_core/python/ops/losses/losses_impl.py:121: where (from tensorflow.python.ops.array_ops) is deprecated and will be removed in a future version.\n",
      "Instructions for updating:\n",
      "Use tf.where in 2.0, which has the same broadcast rule as np.where\n"
     ]
    }
   ],
   "source": [
    "num_classes = 3\n",
    "alpha = 0.2\n",
    "pred_vector_length = 4 + num_classes\n",
    "\n",
    "model_layers = [\n",
    "    keras.layers.Conv2D(16, kernel_size = (3,3), strides = 1, input_shape = input_shape),\n",
    "    keras.layers.LeakyReLU(alpha),\n",
    "    keras.layers.Conv2D(16, kernel_size = (3,3), strides = 1),\n",
    "    keras.layers.LeakyReLU(alpha),\n",
    "    keras.layers.MaxPooling2D(pool_size=(2,2)),\n",
    "    \n",
    "    keras.layers.Conv2D(32, kernel_size=(3, 3), strides=1),\n",
    "    keras.layers.LeakyReLU(alpha=alpha),\n",
    "    keras.layers.Conv2D(32, kernel_size=(3, 3), strides=1),\n",
    "    keras.layers.LeakyReLU( alpha=alpha ) ,\n",
    "    keras.layers.MaxPooling2D( pool_size=( 2 , 2 ) ),\n",
    "    \n",
    "    keras.layers.Conv2D(64, kernel_size=(3, 3), strides=1),\n",
    "    keras.layers.LeakyReLU( alpha=alpha ) ,\n",
    "    keras.layers.Conv2D(64, kernel_size=(3, 3), strides=1),\n",
    "    keras.layers.LeakyReLU( alpha=alpha ) ,\n",
    "    keras.layers.MaxPooling2D( pool_size=( 2 , 2 ) ),\n",
    "    \n",
    "    keras.layers.Flatten(),\n",
    "    \n",
    "    keras.layers.Dense( 640 ) ,\n",
    "    keras.layers.LeakyReLU( alpha=alpha ) ,\n",
    "    keras.layers.Dropout(dropout_rate),\n",
    "    keras.layers.Dense( 480 ) , \n",
    "    keras.layers.LeakyReLU( alpha=alpha ) ,\n",
    "    keras.layers.Dense( 120 ) , \n",
    "    keras.layers.LeakyReLU( alpha=alpha ) ,\n",
    "    keras.layers.Dense( 62 ) , \n",
    "    keras.layers.LeakyReLU( alpha=alpha ) ,\n",
    "    \n",
    "    keras.layers.Dense(pred_vector_length),\n",
    "    keras.layers.LeakyReLU(alpha=alpha) \n",
    "]\n",
    "\n",
    "model = keras.models.Sequential(model_layers)\n",
    "model.compile(\n",
    "    optimizer = 'adam',\n",
    "    loss = custom_loss,\n",
    "    metrics=[iou_metric]\n",
    ")"
   ]
  },
  {
   "cell_type": "code",
   "execution_count": 17,
   "metadata": {
    "collapsed": true
   },
   "outputs": [
    {
     "name": "stdout",
     "output_type": "stream",
     "text": [
      "Train on 111 samples\n",
      "Epoch 1/10\n",
      "111/111 [==============================] - 12s 105ms/sample - loss: 1.7346 - iou_metric: 0.0337\n",
      "Epoch 2/10\n",
      "111/111 [==============================] - 10s 87ms/sample - loss: 0.8454 - iou_metric: 0.3115\n",
      "Epoch 3/10\n",
      "111/111 [==============================] - 10s 93ms/sample - loss: 0.7237 - iou_metric: 0.4074\n",
      "Epoch 4/10\n",
      "111/111 [==============================] - 11s 97ms/sample - loss: 0.6432 - iou_metric: 0.4721\n",
      "Epoch 5/10\n",
      "111/111 [==============================] - 11s 96ms/sample - loss: 0.6462 - iou_metric: 0.4679\n",
      "Epoch 6/10\n",
      "111/111 [==============================] - 12s 110ms/sample - loss: 0.6135 - iou_metric: 0.4956\n",
      "Epoch 7/10\n",
      "111/111 [==============================] - 13s 113ms/sample - loss: 0.6298 - iou_metric: 0.4811\n",
      "Epoch 8/10\n",
      "111/111 [==============================] - 12s 105ms/sample - loss: 0.5747 - iou_metric: 0.5313\n",
      "Epoch 9/10\n",
      "111/111 [==============================] - 10s 93ms/sample - loss: 0.5789 - iou_metric: 0.5283\n",
      "Epoch 10/10\n",
      "111/111 [==============================] - 10s 92ms/sample - loss: 0.5486 - iou_metric: 0.5555\n"
     ]
    },
    {
     "data": {
      "text/plain": [
       "<tensorflow.python.keras.callbacks.History at 0x1c625803d0>"
      ]
     },
     "execution_count": 17,
     "metadata": {},
     "output_type": "execute_result"
    }
   ],
   "source": [
    "model.fit(x_train, y_train, batch_size=20, epochs=10, verbose=1)"
   ]
  },
  {
   "cell_type": "code",
   "execution_count": 48,
   "metadata": {},
   "outputs": [],
   "source": [
    "test_image = cv2.imread(\"./test_image.jpg\")\n",
    "test_image = cv2.resize(test_image, (228, 228))[:,:,::-1] / 255.0"
   ]
  },
  {
   "cell_type": "code",
   "execution_count": 49,
   "metadata": {},
   "outputs": [],
   "source": [
    "im = Image.fromarray(np.uint8(test_image))\n",
    "\n",
    "y_pred = model.predict(test_image[np.newaxis, : , :, :])\n",
    "test_pred = y_pred[0]\n",
    "\n",
    "class_score = test_pred[-3:]\n",
    "test_bbox = test_pred[:4]\n",
    "test_bbox = test_bbox * input_dim\n",
    "max_class = np.argmax(class_score)\n",
    "\n",
    "test_show = cv2.rectangle(test_image, (test_bbox[0], test_bbox[1]), (test_bbox[2], test_bbox[3]), (0, 255, 0), 1) * 255.0\n",
    "test_show = Image.fromarray(np.uint8(test_show))\n",
    "test_show.show()"
   ]
  },
  {
   "cell_type": "code",
   "execution_count": null,
   "metadata": {},
   "outputs": [],
   "source": []
  }
 ],
 "metadata": {
  "kernelspec": {
   "display_name": "Python 3",
   "language": "python",
   "name": "python3"
  },
  "language_info": {
   "codemirror_mode": {
    "name": "ipython",
    "version": 3
   },
   "file_extension": ".py",
   "mimetype": "text/x-python",
   "name": "python",
   "nbconvert_exporter": "python",
   "pygments_lexer": "ipython3",
   "version": "3.7.4"
  }
 },
 "nbformat": 4,
 "nbformat_minor": 2
}
