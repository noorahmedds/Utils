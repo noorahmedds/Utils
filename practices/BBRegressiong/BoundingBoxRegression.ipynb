{
 "cells": [
  {
   "cell_type": "markdown",
   "execution_count": null,
   "metadata": {},
   "outputs": [],
   "source": [
    "## Link to Tutorial that I followed\n",
    "https://towardsdatascience.com/getting-started-with-bounding-box-regression-in-tensorflow-743e22d0ccb3"
   ]
  },
  {
   "cell_type": "code",
   "execution_count": 2,
   "metadata": {},
   "outputs": [],
   "source": [
    "import tensorflow as tf\n",
    "import keras\n",
    "import numpy as np\n",
    "import cv2\n",
    "import glob\n",
    "from PIL import Image , ImageDraw\n",
    "import os\n",
    "import xmltodict"
   ]
  },
  {
   "cell_type": "code",
   "execution_count": 3,
   "metadata": {},
   "outputs": [],
   "source": [
    "input_dim = 228"
   ]
  },
  {
   "cell_type": "code",
   "execution_count": 4,
   "metadata": {},
   "outputs": [],
   "source": [
    "images = []\n",
    "image_paths = glob.glob(\"training_images/*.jpg\")"
   ]
  },
  {
   "cell_type": "code",
   "execution_count": 5,
   "metadata": {},
   "outputs": [],
   "source": [
    "for i in image_paths:\n",
    "    image = Image.open(i).resize((input_dim, input_dim))\n",
    "    # Normalize image\n",
    "    image = np.asarray(image) / 255.0\n",
    "    images.append(image)"
   ]
  },
  {
   "cell_type": "code",
   "execution_count": 19,
   "metadata": {},
   "outputs": [
    {
     "data": {
      "text/plain": [
       "OrderedDict([('annotation',\n",
       "              OrderedDict([('folder', 'single mushroom'),\n",
       "                           ('filename', 'mushroom_30.jpg'),\n",
       "                           ('path',\n",
       "                            'C:\\\\Users\\\\Muhammed Buyukkinaci\\\\Downloads\\\\single mushroom\\\\mushroom_30.jpg'),\n",
       "                           ('source', OrderedDict([('database', 'Unknown')])),\n",
       "                           ('size',\n",
       "                            OrderedDict([('width', '227'),\n",
       "                                         ('height', '227'),\n",
       "                                         ('depth', '3')])),\n",
       "                           ('segmented', '0'),\n",
       "                           ('object',\n",
       "                            OrderedDict([('name', 'mushroom'),\n",
       "                                         ('pose', 'Unspecified'),\n",
       "                                         ('truncated', '0'),\n",
       "                                         ('difficult', '0'),\n",
       "                                         ('bndbox',\n",
       "                                          OrderedDict([('xmin', '9'),\n",
       "                                                       ('ymin', '11'),\n",
       "                                                       ('xmax', '223'),\n",
       "                                                       ('ymax',\n",
       "                                                        '217')]))]))]))])"
      ]
     },
     "execution_count": 19,
     "metadata": {},
     "output_type": "execute_result"
    }
   ],
   "source": [
    "x"
   ]
  },
  {
   "cell_type": "code",
   "execution_count": 28,
   "metadata": {},
   "outputs": [
    {
     "data": {
      "text/plain": [
       "'9'"
      ]
     },
     "execution_count": 28,
     "metadata": {},
     "output_type": "execute_result"
    }
   ],
   "source": [
    "x['annotation']['object']['bndbox']['xmin']"
   ]
  },
  {
   "cell_type": "code",
   "execution_count": 36,
   "metadata": {},
   "outputs": [],
   "source": [
    "xml_paths = glob.glob(\"training_images/*.xml\")\n",
    "objects = []\n",
    "bndboxes = []\n",
    "for path in xml_paths:\n",
    "    annotation_dict = xmltodict.parse(open(path, 'rb'))\n",
    "    objects.append(annotation_dict['annotation']['object']['name'])\n",
    "    bb = []\n",
    "    buff = annotation_dict['annotation']['object']['bndbox']\n",
    "    bb.append(int(buff['xmin']))\n",
    "    bb.append(int(buff['ymin']))\n",
    "    bb.append(int(buff['xmax']))\n",
    "    bb.append(int(buff['ymax']))\n",
    "    bb = np.asarray(bb) / input_dim\n",
    "    bndboxes.append(bb)"
   ]
  },
  {
   "cell_type": "code",
   "execution_count": 38,
   "metadata": {},
   "outputs": [],
   "source": [
    "from sklearn.preprocessing import LabelBinarizer\n",
    "from sklearn.model_selection import train_test_split"
   ]
  },
  {
   "cell_type": "code",
   "execution_count": 121,
   "metadata": {},
   "outputs": [
    {
     "data": {
      "text/plain": [
       "array(['cucumber', 'eggplant', 'mushroom'], dtype='<U8')"
      ]
     },
     "execution_count": 121,
     "metadata": {},
     "output_type": "execute_result"
    }
   ],
   "source": [
    "np.unique(objects)\n",
    "\n",
    "# cucumber 0, eggplant 1, mushroom 2  "
   ]
  },
  {
   "cell_type": "code",
   "execution_count": 47,
   "metadata": {},
   "outputs": [],
   "source": [
    "boxes = np.array(bndboxes)\n",
    "encoder = LabelBinarizer()\n",
    "classes_one_hot = encoder.fit_transform(objects)\n",
    "Y = np.concatenate([boxes, classes_one_hot], axis = 1)\n",
    "X = np.asarray(images)"
   ]
  },
  {
   "cell_type": "code",
   "execution_count": 60,
   "metadata": {},
   "outputs": [],
   "source": [
    "x_train, x_test, y_train, y_test = train_test_split(X,Y, train_size = 0.6)"
   ]
  },
  {
   "cell_type": "code",
   "execution_count": 62,
   "metadata": {},
   "outputs": [],
   "source": [
    "# Creating the keras model"
   ]
  },
  {
   "cell_type": "code",
   "execution_count": 65,
   "metadata": {},
   "outputs": [],
   "source": [
    "from tensorflow import keras\n",
    "from tensorflow.keras import backend as K"
   ]
  },
  {
   "cell_type": "code",
   "execution_count": 66,
   "metadata": {},
   "outputs": [],
   "source": [
    "input_shape = ( input_dim , input_dim , 3 )\n",
    "dropout_rate = 0.5\n",
    "alpha = 0.2\n",
    "\n",
    "def calculate_iou( target_boxes , pred_boxes ):\n",
    "    xA = K.maximum( target_boxes[ ... , 0], pred_boxes[ ... , 0] )\n",
    "    yA = K.maximum( target_boxes[ ... , 1], pred_boxes[ ... , 1] )\n",
    "    xB = K.minimum( target_boxes[ ... , 2], pred_boxes[ ... , 2] )\n",
    "    yB = K.minimum( target_boxes[ ... , 3], pred_boxes[ ... , 3] )\n",
    "    interArea = K.maximum( 0.0 , xB - xA ) * K.maximum( 0.0 , yB - yA )\n",
    "    boxAArea = (target_boxes[ ... , 2] - target_boxes[ ... , 0]) * (target_boxes[ ... , 3] - target_boxes[ ... , 1])\n",
    "    boxBArea = (pred_boxes[ ... , 2] - pred_boxes[ ... , 0]) * (pred_boxes[ ... , 3] - pred_boxes[ ... , 1])\n",
    "    iou = interArea / ( boxAArea + boxBArea - interArea )\n",
    "    return iou\n",
    "\n",
    "def iou_metric( y_true , y_pred ):\n",
    "    return calculate_iou( y_true , y_pred )\n",
    "\n",
    "def custom_loss( y_true , y_pred ):\n",
    "    mse = tf.losses.mean_squared_error( y_true , y_pred ) \n",
    "    iou = calculate_iou( y_true , y_pred ) \n",
    "    return mse + ( 1 - iou )"
   ]
  },
  {
   "cell_type": "code",
   "execution_count": 81,
   "metadata": {},
   "outputs": [
    {
     "name": "stdout",
     "output_type": "stream",
     "text": [
      "WARNING:tensorflow:From /anaconda/envs/gandola/lib/python3.7/site-packages/tensorflow_core/python/ops/resource_variable_ops.py:1630: calling BaseResourceVariable.__init__ (from tensorflow.python.ops.resource_variable_ops) with constraint is deprecated and will be removed in a future version.\n",
      "Instructions for updating:\n",
      "If using Keras pass *_constraint arguments to layers.\n",
      "WARNING:tensorflow:From /anaconda/envs/gandola/lib/python3.7/site-packages/tensorflow_core/python/ops/losses/losses_impl.py:121: where (from tensorflow.python.ops.array_ops) is deprecated and will be removed in a future version.\n",
      "Instructions for updating:\n",
      "Use tf.where in 2.0, which has the same broadcast rule as np.where\n"
     ]
    }
   ],
   "source": [
    "num_classes = 3\n",
    "alpha = 0.2\n",
    "pred_vector_length = 4 + num_classes\n",
    "\n",
    "model_layers = [\n",
    "    keras.layers.Conv2D(16, kernel_size = (3,3), strides = 1, input_shape = input_shape),\n",
    "    keras.layers.LeakyReLU(alpha),\n",
    "    keras.layers.Conv2D(16, kernel_size = (3,3), strides = 1),\n",
    "    keras.layers.LeakyReLU(alpha),\n",
    "    keras.layers.MaxPooling2D(pool_size=(2,2)),\n",
    "    \n",
    "    keras.layers.Conv2D(32, kernel_size=(3, 3), strides=1),\n",
    "    keras.layers.LeakyReLU(alpha=alpha),\n",
    "    keras.layers.Conv2D(32, kernel_size=(3, 3), strides=1),\n",
    "    keras.layers.LeakyReLU( alpha=alpha ) ,\n",
    "    keras.layers.MaxPooling2D( pool_size=( 2 , 2 ) ),\n",
    "    \n",
    "    keras.layers.Conv2D(64, kernel_size=(3, 3), strides=1),\n",
    "    keras.layers.LeakyReLU( alpha=alpha ) ,\n",
    "    keras.layers.Conv2D(64, kernel_size=(3, 3), strides=1),\n",
    "    keras.layers.LeakyReLU( alpha=alpha ) ,\n",
    "    keras.layers.MaxPooling2D( pool_size=( 2 , 2 ) ),\n",
    "    \n",
    "    keras.layers.Flatten(),\n",
    "    \n",
    "    keras.layers.Dense( 640 ) ,\n",
    "    keras.layers.LeakyReLU( alpha=alpha ) ,\n",
    "    keras.layers.Drop\n",
    "    keras.layers.Dense( 480 ) , \n",
    "    keras.layers.LeakyReLU( alpha=alpha ) ,\n",
    "    keras.layers.Dense( 120 ) , \n",
    "    keras.layers.LeakyReLU( alpha=alpha ) ,\n",
    "    keras.layers.Dense( 62 ) , \n",
    "    keras.layers.LeakyReLU( alpha=alpha ) ,\n",
    "    \n",
    "    keras.layers.Dense( pred_vector_length ),\n",
    "    keras.layers.LeakyReLU( alpha=alpha ) \n",
    "]\n",
    "\n",
    "model = keras.models.Sequential(model_layers)\n",
    "model.compile(\n",
    "    optimizer = 'adam',\n",
    "    loss = custom_loss,\n",
    "    metrics=[iou_metric]\n",
    ")"
   ]
  },
  {
   "cell_type": "code",
   "execution_count": 84,
   "metadata": {},
   "outputs": [
    {
     "name": "stdout",
     "output_type": "stream",
     "text": [
      "Train on 111 samples\n",
      "Epoch 1/10\n",
      "111/111 [==============================] - 10s 94ms/sample - loss: 1.2422 - iou_metric: 0.0215\n",
      "Epoch 2/10\n",
      "111/111 [==============================] - 9s 80ms/sample - loss: 0.9461 - iou_metric: 0.2495\n",
      "Epoch 3/10\n",
      "111/111 [==============================] - 9s 81ms/sample - loss: 0.7631 - iou_metric: 0.3867\n",
      "Epoch 4/10\n",
      "111/111 [==============================] - 9s 79ms/sample - loss: 0.6964 - iou_metric: 0.4414\n",
      "Epoch 5/10\n",
      "111/111 [==============================] - 10s 91ms/sample - loss: 0.6481 - iou_metric: 0.4747\n",
      "Epoch 6/10\n",
      "111/111 [==============================] - 12s 107ms/sample - loss: 0.6053 - iou_metric: 0.5091\n",
      "Epoch 7/10\n",
      "111/111 [==============================] - 11s 97ms/sample - loss: 0.5323 - iou_metric: 0.5759\n",
      "Epoch 8/10\n",
      "111/111 [==============================] - 10s 87ms/sample - loss: 0.5242 - iou_metric: 0.5799\n",
      "Epoch 9/10\n",
      "111/111 [==============================] - 10s 88ms/sample - loss: 0.5340 - iou_metric: 0.5705\n",
      "Epoch 10/10\n",
      "111/111 [==============================] - 9s 83ms/sample - loss: 0.5174 - iou_metric: 0.5868\n"
     ]
    },
    {
     "data": {
      "text/plain": [
       "<tensorflow.python.keras.callbacks.History at 0x1c602db510>"
      ]
     },
     "execution_count": 84,
     "metadata": {},
     "output_type": "execute_result"
    }
   ],
   "source": [
    "model.fit(x_train, y_train, batch_size=20, epochs=10, verbose=1)"
   ]
  },
  {
   "cell_type": "code",
   "execution_count": 93,
   "metadata": {},
   "outputs": [],
   "source": [
    "im = Image.fromarray(np.uint8(test_image*255))"
   ]
  },
  {
   "cell_type": "code",
   "execution_count": 96,
   "metadata": {},
   "outputs": [],
   "source": [
    "test_pred = y_pred[0]\n",
    "test_image = x_test[0] * 255.0"
   ]
  },
  {
   "cell_type": "code",
   "execution_count": 106,
   "metadata": {},
   "outputs": [],
   "source": [
    "class_score = test_pred[-3:]\n",
    "test_bbox = test_pred[:4]"
   ]
  },
  {
   "cell_type": "code",
   "execution_count": 107,
   "metadata": {},
   "outputs": [],
   "source": [
    "test_bbox = test_bbox * input_dim\n",
    "max_class = np.argmax(class_score)"
   ]
  },
  {
   "cell_type": "code",
   "execution_count": 111,
   "metadata": {},
   "outputs": [],
   "source": [
    "test_show = cv2.rectangle(test_image, (test_bbox[0], test_bbox[1]), (test_bbox[2], test_bbox[3]), (0, 255, 0), 1)"
   ]
  },
  {
   "cell_type": "code",
   "execution_count": 112,
   "metadata": {},
   "outputs": [],
   "source": [
    "test_show = Image.fromarray(np.uint8(test_show))"
   ]
  },
  {
   "cell_type": "code",
   "execution_count": 114,
   "metadata": {},
   "outputs": [],
   "source": [
    "test_show.show()"
   ]
  },
  {
   "cell_type": "code",
   "execution_count": null,
   "metadata": {},
   "outputs": [],
   "source": []
  }
 ],
 "metadata": {
  "kernelspec": {
   "display_name": "Python 3",
   "language": "python",
   "name": "python3"
  },
  "language_info": {
   "codemirror_mode": {
    "name": "ipython",
    "version": 3
   },
   "file_extension": ".py",
   "mimetype": "text/x-python",
   "name": "python",
   "nbconvert_exporter": "python",
   "pygments_lexer": "ipython3",
   "version": "3.7.4"
  }
 },
 "nbformat": 4,
 "nbformat_minor": 2
}