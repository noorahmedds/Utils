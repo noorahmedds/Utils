{
 "cells": [
  {
   "cell_type": "code",
   "execution_count": 8,
   "metadata": {},
   "outputs": [],
   "source": [
    "import numpy as np\n",
    "import csv\n",
    "import cv2\n",
    "import tqdm\n",
    "import glob"
   ]
  },
  {
   "cell_type": "code",
   "execution_count": 27,
   "metadata": {},
   "outputs": [],
   "source": [
    "def process_bb(size, bb):\n",
    "    dh = 1./size[0]\n",
    "    dw = 1./size[1]\n",
    "\n",
    "    x, y, w, h = bb\n",
    "    x = int(x)\n",
    "    y = int(y)\n",
    "    w = int(w)\n",
    "    h = int(h)\n",
    "\n",
    "    x2 = x+w\n",
    "    y2 = y+h\n",
    "\n",
    "    xc = (x2 - x)/2.0\n",
    "    yc = (y2 - y)/2.0\n",
    "\n",
    "    return xc*dw, yc*dh, w*dw, h*dh"
   ]
  },
  {
   "cell_type": "code",
   "execution_count": 12,
   "metadata": {},
   "outputs": [],
   "source": [
    "def populate_image_ids(file_path):\n",
    "    image_ids = open(file_path).read().strip().split()\n",
    "    return image_ids\n",
    "\n",
    "def create_test_train_lists(image_ids, split=0.5):\n",
    "    # now we iterate over all list_objects\n",
    "    # Train\n",
    "    train_file = open(\"train.txt\", \"w+\")\n",
    "\n",
    "    i = 0\n",
    "    while i in range(int(len(image_ids) * split)):\n",
    "        full_path = '%s\\n' % (image_ids[i])\n",
    "        train_file.write(full_path)\n",
    "        i += 1\n",
    "    train_file.close()\n",
    "\n",
    "    test_file = open(\"test.txt\", \"w+\")\n",
    "    while i < len(image_ids):\n",
    "        full_path = '%s\\n' % (image_ids[i])\n",
    "        test_file.write(full_path)\n",
    "        i += 1\n",
    "    test_file.close"
   ]
  },
  {
   "cell_type": "code",
   "execution_count": 29,
   "metadata": {},
   "outputs": [],
   "source": [
    "def write_to_files(annot_dict, location):\n",
    "    # Here do a final run over the dictionary and save to txt files\n",
    "    # Annotations output file\n",
    "    \n",
    "    # Here we write the image_locations to the all.txt file\n",
    "    list_file = open(\"all.txt\", \"a+\")\n",
    "    for image_id in tqdm.tqdm(annot_dict.keys()):\n",
    "        list_file.write(f\"data/{location}/{image_id}.jpg\\n\")\n",
    "\n",
    "        # Writing annotations to individual txt files\n",
    "        out_path = f\"{location}/{image_id}.txt\"\n",
    "        with open(out_path, 'w+') as out_file:\n",
    "            # For annotations for a single image\n",
    "            for ann in annot_dict[image_id]:\n",
    "                # Write this annotation to the file\n",
    "                out_file.write(\" \".join([str(a) for a in ann]) + '\\n')\n",
    "\n",
    "    print(\"Done writing annotations to file\")\n",
    "    list_file.close()"
   ]
  },
  {
   "cell_type": "code",
   "execution_count": 34,
   "metadata": {},
   "outputs": [],
   "source": [
    "from PIL import Image"
   ]
  },
  {
   "cell_type": "code",
   "execution_count": 38,
   "metadata": {},
   "outputs": [],
   "source": [
    "def coco2darknet(paths, location = \"coco\"):\n",
    "    annot_dict = dict()\n",
    "    persons_count = 0\n",
    "    # faces_count = 0\n",
    "    \n",
    "    for annotations_path in paths:\n",
    "        # Reading annotations into a dictionary\n",
    "        with open(annotations_path) as csv_file:\n",
    "            csv_reader = csv.reader(csv_file, delimiter=',')\n",
    "            line_count = 0\n",
    "\n",
    "            for row in tqdm.tqdm(csv_reader):\n",
    "                \n",
    "#                 # Debugging\n",
    "                if (line_count % 1000) == 0:\n",
    "                    write_to_files(annot_dict, location)\n",
    "                    \n",
    "                    print(\"100 images were written to files\")\n",
    "                    \n",
    "                    annot_dict = {}\n",
    "\n",
    "                file_path = row[0]\n",
    "                image_id = file_path.split('/')[-1].split('.')[0]\n",
    "\n",
    "\n",
    "                image = cv2.imread(file_path)\n",
    "                \n",
    "#                 Use this instead\n",
    "#                 image = Image.open(file_path)\n",
    "#                 size = image.size[::-1]\n",
    "\n",
    "                # Skip the image which we dont have in our images folder\n",
    "                # Possibly because it wasnt downloaded during the download process\n",
    "                if np.all(image) == None:\n",
    "                    continue\n",
    "\n",
    "                # The COCO bounding box format is [top left x position, top left y position, width, height].\n",
    "                # Converting the bounding boxes to darkent format here\n",
    "                size = image.shape\n",
    "                xc, yc, w, h = process_bb(size, row[1:-1])\n",
    "                class_id = int(row[-1])\n",
    "\n",
    "                if image_id not in annot_dict.keys():\n",
    "                    annot_dict[image_id] = [[class_id, xc, yc, w, h]]\n",
    "                    line_count += 1\n",
    "\n",
    "                    # # Running yolo on the current image\n",
    "                    # # Saving annotations in the dictionary\n",
    "                    # faces = infer(file_path)\n",
    "                    # faces_count += len(faces)\n",
    "                    # # left, top, width, height\n",
    "\n",
    "                    # for face in faces:\n",
    "                    #     face_x, face_y, face_w, face_h = process_bb(size, face)\n",
    "                    #     face_ann = [1, face_x, face_y, face_w, face_h]\n",
    "                    #     annot_dict[image_id].append(face_ann)\n",
    "                else:\n",
    "                    annot_dict[image_id].append([class_id, xc, yc, w, h])\n",
    "                persons_count += 1\n",
    "                \n",
    "    print(\"Persons Count = \", persons_count)"
   ]
  },
  {
   "cell_type": "code",
   "execution_count": 39,
   "metadata": {
    "collapsed": true
   },
   "outputs": [
    {
     "name": "stderr",
     "output_type": "stream",
     "text": [
      "558it [00:07, 74.12it/s]\n"
     ]
    },
    {
     "ename": "FileNotFoundError",
     "evalue": "[Errno 2] No such file or directory: 'images/000000262404.jpg'",
     "output_type": "error",
     "traceback": [
      "\u001b[0;31m---------------------------------------------------------------------------\u001b[0m",
      "\u001b[0;31mFileNotFoundError\u001b[0m                         Traceback (most recent call last)",
      "\u001b[0;32m<ipython-input-39-2acc436ad429>\u001b[0m in \u001b[0;36m<module>\u001b[0;34m\u001b[0m\n\u001b[0;32m----> 1\u001b[0;31m \u001b[0mcoco2darknet\u001b[0m\u001b[0;34m(\u001b[0m\u001b[0;34m[\u001b[0m\u001b[0;34m\"annotations.csv\"\u001b[0m\u001b[0;34m,\u001b[0m \u001b[0;34m\"val_annotations.csv\"\u001b[0m\u001b[0;34m]\u001b[0m\u001b[0;34m)\u001b[0m\u001b[0;34m\u001b[0m\u001b[0;34m\u001b[0m\u001b[0m\n\u001b[0m",
      "\u001b[0;32m<ipython-input-38-56b6290b7e18>\u001b[0m in \u001b[0;36mcoco2darknet\u001b[0;34m(paths, location)\u001b[0m\n\u001b[1;32m     27\u001b[0m \u001b[0;34m\u001b[0m\u001b[0m\n\u001b[1;32m     28\u001b[0m \u001b[0;31m#                 Use this instead\u001b[0m\u001b[0;34m\u001b[0m\u001b[0;34m\u001b[0m\u001b[0;34m\u001b[0m\u001b[0m\n\u001b[0;32m---> 29\u001b[0;31m                 \u001b[0mimage\u001b[0m \u001b[0;34m=\u001b[0m \u001b[0mImage\u001b[0m\u001b[0;34m.\u001b[0m\u001b[0mopen\u001b[0m\u001b[0;34m(\u001b[0m\u001b[0mfile_path\u001b[0m\u001b[0;34m)\u001b[0m\u001b[0;34m\u001b[0m\u001b[0;34m\u001b[0m\u001b[0m\n\u001b[0m\u001b[1;32m     30\u001b[0m                 \u001b[0msize\u001b[0m \u001b[0;34m=\u001b[0m \u001b[0mimage\u001b[0m\u001b[0;34m.\u001b[0m\u001b[0msize\u001b[0m\u001b[0;34m[\u001b[0m\u001b[0;34m:\u001b[0m\u001b[0;34m:\u001b[0m\u001b[0;34m-\u001b[0m\u001b[0;36m1\u001b[0m\u001b[0;34m]\u001b[0m\u001b[0;34m\u001b[0m\u001b[0;34m\u001b[0m\u001b[0m\n\u001b[1;32m     31\u001b[0m \u001b[0;34m\u001b[0m\u001b[0m\n",
      "\u001b[0;32m/anaconda/envs/gandola/lib/python3.7/site-packages/PIL/Image.py\u001b[0m in \u001b[0;36mopen\u001b[0;34m(fp, mode)\u001b[0m\n\u001b[1;32m   2764\u001b[0m \u001b[0;34m\u001b[0m\u001b[0m\n\u001b[1;32m   2765\u001b[0m     \u001b[0;32mif\u001b[0m \u001b[0mfilename\u001b[0m\u001b[0;34m:\u001b[0m\u001b[0;34m\u001b[0m\u001b[0;34m\u001b[0m\u001b[0m\n\u001b[0;32m-> 2766\u001b[0;31m         \u001b[0mfp\u001b[0m \u001b[0;34m=\u001b[0m \u001b[0mbuiltins\u001b[0m\u001b[0;34m.\u001b[0m\u001b[0mopen\u001b[0m\u001b[0;34m(\u001b[0m\u001b[0mfilename\u001b[0m\u001b[0;34m,\u001b[0m \u001b[0;34m\"rb\"\u001b[0m\u001b[0;34m)\u001b[0m\u001b[0;34m\u001b[0m\u001b[0;34m\u001b[0m\u001b[0m\n\u001b[0m\u001b[1;32m   2767\u001b[0m         \u001b[0mexclusive_fp\u001b[0m \u001b[0;34m=\u001b[0m \u001b[0;32mTrue\u001b[0m\u001b[0;34m\u001b[0m\u001b[0;34m\u001b[0m\u001b[0m\n\u001b[1;32m   2768\u001b[0m \u001b[0;34m\u001b[0m\u001b[0m\n",
      "\u001b[0;31mFileNotFoundError\u001b[0m: [Errno 2] No such file or directory: 'images/000000262404.jpg'"
     ]
    }
   ],
   "source": [
    "coco2darknet([\"annotations.csv\", \"val_annotations.csv\"])"
   ]
  },
  {
   "cell_type": "code",
   "execution_count": 24,
   "metadata": {},
   "outputs": [],
   "source": [
    "import random\n",
    "random.seed(3)"
   ]
  },
  {
   "cell_type": "code",
   "execution_count": 40,
   "metadata": {},
   "outputs": [],
   "source": [
    "image_ids = populate_image_ids(\"all.txt\")"
   ]
  },
  {
   "cell_type": "code",
   "execution_count": 42,
   "metadata": {},
   "outputs": [],
   "source": [
    "create_test_train_lists(image_ids, split=0.6)"
   ]
  },
  {
   "cell_type": "code",
   "execution_count": 43,
   "metadata": {},
   "outputs": [
    {
     "data": {
      "text/plain": [
       "63289"
      ]
     },
     "execution_count": 43,
     "metadata": {},
     "output_type": "execute_result"
    }
   ],
   "source": [
    "len(image_ids)"
   ]
  },
  {
   "cell_type": "code",
   "execution_count": null,
   "metadata": {},
   "outputs": [],
   "source": []
  }
 ],
 "metadata": {
  "kernelspec": {
   "display_name": "Python 3",
   "language": "python",
   "name": "python3"
  },
  "language_info": {
   "codemirror_mode": {
    "name": "ipython",
    "version": 3
   },
   "file_extension": ".py",
   "mimetype": "text/x-python",
   "name": "python",
   "nbconvert_exporter": "python",
   "pygments_lexer": "ipython3",
   "version": "3.7.4"
  }
 },
 "nbformat": 4,
 "nbformat_minor": 2
}
