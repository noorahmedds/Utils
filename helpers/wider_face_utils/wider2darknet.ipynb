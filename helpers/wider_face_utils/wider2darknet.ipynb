{
 "cells": [
  {
   "cell_type": "code",
   "execution_count": 3,
   "metadata": {},
   "outputs": [],
   "source": [
    "import cv2\n",
    "import numpy as np \n",
    "import torch\n",
    "from wider import WIDER\n",
    "from PIL import Image\n",
    "import tqdm"
   ]
  },
  {
   "cell_type": "code",
   "execution_count": 27,
   "metadata": {},
   "outputs": [],
   "source": [
    "def unmain(wider):\n",
    "\n",
    "    annot_dict = {}\n",
    "\n",
    "    # press ctrl-C to stop the process\n",
    "    for idx, data in tqdm.tqdm(enumerate(wider.next())):\n",
    "        # im = cv2.imread(data.image_name)\n",
    "        im = Image.open(data.image_name)\n",
    "        im_id = data.image_name.split('/')[-1]\n",
    "\n",
    "        if im_id not in annot_dict.keys():\n",
    "            # Create entry for current image\n",
    "            annot_dict[im_id] = []\n",
    "\n",
    "        width, height = im.size\n",
    "        for bbox in data.bboxes:\n",
    "            x1 = bbox[0]\n",
    "            y1 = bbox[1]\n",
    "            x2 = bbox[2]\n",
    "            y2 = bbox[3]\n",
    "\n",
    "            w = x2 - x1\n",
    "            h = y2-y1\n",
    "            xc = (x1 + (w/2))/width\n",
    "            yc = (y1 + (h/2))/height\n",
    "            w /= width\n",
    "            h /= height\n",
    "\n",
    "            annot_dict[im_id].append([0, xc, yc, w, h])\n",
    "    return annot_dict"
   ]
  },
  {
   "cell_type": "code",
   "execution_count": 28,
   "metadata": {},
   "outputs": [],
   "source": [
    "wider = WIDER('./wider_face_split',\n",
    "          './WIDER_train/images',\n",
    "          'wider_face_train.mat')\n",
    "\n",
    "val_wider = WIDER('./wider_face_split',\n",
    "          './WIDER_val/images',\n",
    "          'wider_face_val.mat')"
   ]
  },
  {
   "cell_type": "code",
   "execution_count": 29,
   "metadata": {
    "scrolled": false
   },
   "outputs": [
    {
     "name": "stderr",
     "output_type": "stream",
     "text": [
      "12880it [00:03, 4183.26it/s]\n",
      "3226it [00:01, 2034.06it/s]\n"
     ]
    }
   ],
   "source": [
    "annot_dict = unmain(wider)\n",
    "val_annot_dict = unmain(val_wider)"
   ]
  },
  {
   "cell_type": "code",
   "execution_count": 35,
   "metadata": {},
   "outputs": [],
   "source": [
    "def write_to_files(annot_dict, location=\"wider_annots\"):\n",
    "    # Here do a final run over the dictionary and save to txt files\n",
    "    # Annotations output file\n",
    "    \n",
    "    # Here we write the image_locations to the all.txt file\n",
    "    list_file = open(\"all.txt\", \"a+\")\n",
    "    for image_id in tqdm.tqdm(annot_dict.keys()):\n",
    "        list_file.write(f\"data/{location}/{image_id}\\n\")\n",
    "\n",
    "#         # Writing annotations to individual txt files\n",
    "#         out_path = f\"{location}/{image_id}.txt\"\n",
    "#         with open(out_path, 'w+') as out_file:\n",
    "#             # For annotations for a single image\n",
    "#             for ann in annot_dict[image_id]:\n",
    "#                 # Write this annotation to the file\n",
    "#                 out_file.write(\" \".join([str(a) for a in ann]) + '\\n')\n",
    "\n",
    "    print(\"Done writing annotations to file\")\n",
    "    list_file.close()"
   ]
  },
  {
   "cell_type": "code",
   "execution_count": 36,
   "metadata": {},
   "outputs": [
    {
     "name": "stderr",
     "output_type": "stream",
     "text": [
      "100%|██████████| 12880/12880 [00:00<00:00, 445723.96it/s]\n",
      "100%|██████████| 3226/3226 [00:00<00:00, 383874.96it/s]"
     ]
    },
    {
     "name": "stdout",
     "output_type": "stream",
     "text": [
      "Done writing annotations to file\n",
      "Done writing annotations to file\n"
     ]
    },
    {
     "name": "stderr",
     "output_type": "stream",
     "text": [
      "\n"
     ]
    }
   ],
   "source": [
    "write_to_files(annot_dict)\n",
    "write_to_files(val_annot_dict)"
   ]
  },
  {
   "cell_type": "code",
   "execution_count": null,
   "metadata": {},
   "outputs": [],
   "source": []
  }
 ],
 "metadata": {
  "kernelspec": {
   "display_name": "Python 3",
   "language": "python",
   "name": "python3"
  },
  "language_info": {
   "codemirror_mode": {
    "name": "ipython",
    "version": 3
   },
   "file_extension": ".py",
   "mimetype": "text/x-python",
   "name": "python",
   "nbconvert_exporter": "python",
   "pygments_lexer": "ipython3",
   "version": "3.7.4"
  }
 },
 "nbformat": 4,
 "nbformat_minor": 2
}
